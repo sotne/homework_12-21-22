{
 "cells": [
  {
   "cell_type": "markdown",
   "id": "07814877",
   "metadata": {},
   "source": [
    "### Regex project\n",
    "\n",
    "Use python to read the file regex_test.txt and print the last name on each line using regular expressions and groups (return None for names with no first and last name, or names that aren't properly capitalized)\n",
    "##### Hint: use with open() and readlines()"
   ]
  },
  {
   "cell_type": "code",
   "execution_count": null,
   "id": "0db91a69",
   "metadata": {},
   "outputs": [],
   "source": [
    "\"\"\"\n",
    "Expected Output\n",
    "Abraham Lincoln\n",
    "Andrew P Garfield\n",
    "Connor Milliken\n",
    "Jordan Alexander Williams\n",
    "None\n",
    "None\n",
    "\"\"\""
   ]
  },
  {
   "cell_type": "code",
   "execution_count": 4,
   "id": "6d07e646",
   "metadata": {},
   "outputs": [],
   "source": [
    "# def valid_names(names):\n",
    "#         name_pattern = re.compile('[\\w]+[\\s]')\n",
    "#         match = email_pattern.match(email_address)\n",
    "#         if match:\n",
    "#             return email_address\n",
    "# for email in my_emails:\n",
    "#     print(is_valid_email(email))\n",
    "import re"
   ]
  },
  {
   "cell_type": "code",
   "execution_count": 5,
   "id": "54a4d523",
   "metadata": {},
   "outputs": [
    {
     "name": "stdout",
     "output_type": "stream",
     "text": [
      "<class 'str'>\n"
     ]
    }
   ],
   "source": [
    "file = open('regex_test.txt')\n",
    "data=file.read()\n",
    "print(type(data))"
   ]
  },
  {
   "cell_type": "code",
   "execution_count": null,
   "id": "9cba1112",
   "metadata": {},
   "outputs": [],
   "source": [
    "# names_pattern1 = ('''\n",
    "# (?P<first>^[A-Z][a-z]+[\\s])(?P<middleinitial>[\\s\\w\\s]?)(?P<last>[\\s]?[A-Z][a-z]*)                                            #alexander not middle and williams not last\n",
    "# ''',re.M|re.X)\n",
    "# names_pattern2 = ('''\n",
    "# (?P<first>^[A-Z][a-z]+[\\s])(?P<middleinitial>[\\s\\w\\s]?)(?P<middle>[\\s][\\w]*[\\s])(?P<last>[\\s]?[A-Z][a-z]*)                                          #alexander not middle and williams not last\n",
    "# ''',re.M|re.X)\n"
   ]
  },
  {
   "cell_type": "code",
   "execution_count": 6,
   "id": "48f57cc9",
   "metadata": {},
   "outputs": [
    {
     "ename": "AttributeError",
     "evalue": "'tuple' object has no attribute 'match'",
     "output_type": "error",
     "traceback": [
      "\u001b[1;31m---------------------------------------------------------------------------\u001b[0m",
      "\u001b[1;31mAttributeError\u001b[0m                            Traceback (most recent call last)",
      "Input \u001b[1;32mIn [6]\u001b[0m, in \u001b[0;36m<cell line: 8>\u001b[1;34m()\u001b[0m\n\u001b[0;32m      7\u001b[0m         \u001b[38;5;28;01mreturn\u001b[39;00m name\n\u001b[0;32m      8\u001b[0m \u001b[38;5;28;01mfor\u001b[39;00m valid \u001b[38;5;129;01min\u001b[39;00m data:\n\u001b[1;32m----> 9\u001b[0m     \u001b[38;5;28mprint\u001b[39m(\u001b[43mreal_name\u001b[49m\u001b[43m(\u001b[49m\u001b[43mvalid\u001b[49m\u001b[43m)\u001b[49m)\n",
      "Input \u001b[1;32mIn [6]\u001b[0m, in \u001b[0;36mreal_name\u001b[1;34m(name)\u001b[0m\n\u001b[0;32m      1\u001b[0m \u001b[38;5;28;01mdef\u001b[39;00m \u001b[38;5;21mreal_name\u001b[39m(name):\n\u001b[0;32m      2\u001b[0m     names_pattern2 \u001b[38;5;241m=\u001b[39m (\u001b[38;5;124m'''\u001b[39m\n\u001b[0;32m      3\u001b[0m \u001b[38;5;124m(?P<first>^[A-Z][a-z]+[\u001b[39m\u001b[38;5;124m\\\u001b[39m\u001b[38;5;124ms])(?P<middleinitial>[\u001b[39m\u001b[38;5;124m\\\u001b[39m\u001b[38;5;124ms\u001b[39m\u001b[38;5;124m\\\u001b[39m\u001b[38;5;124mw\u001b[39m\u001b[38;5;124m\\\u001b[39m\u001b[38;5;124ms]?)(?P<middle>[\u001b[39m\u001b[38;5;124m\\\u001b[39m\u001b[38;5;124ms][\u001b[39m\u001b[38;5;124m\\\u001b[39m\u001b[38;5;124mw]*[\u001b[39m\u001b[38;5;124m\\\u001b[39m\u001b[38;5;124ms])(?P<last>[\u001b[39m\u001b[38;5;124m\\\u001b[39m\u001b[38;5;124ms]?[A-Z][a-z]*)                                          #alexander not middle and williams not last\u001b[39m\n\u001b[0;32m      4\u001b[0m \u001b[38;5;124m'''\u001b[39m,re\u001b[38;5;241m.\u001b[39mM\u001b[38;5;241m|\u001b[39mre\u001b[38;5;241m.\u001b[39mX)\n\u001b[1;32m----> 5\u001b[0m     answers \u001b[38;5;241m=\u001b[39m \u001b[43mnames_pattern2\u001b[49m\u001b[38;5;241;43m.\u001b[39;49m\u001b[43mmatch\u001b[49m(name)\n\u001b[0;32m      6\u001b[0m     \u001b[38;5;28;01mif\u001b[39;00m answers:\n\u001b[0;32m      7\u001b[0m         \u001b[38;5;28;01mreturn\u001b[39;00m name\n",
      "\u001b[1;31mAttributeError\u001b[0m: 'tuple' object has no attribute 'match'"
     ]
    }
   ],
   "source": [
    "def real_name(name):\n",
    "    names_pattern2 = ('''\n",
    "(?P<first>^[A-Z][a-z]+[\\s])(?P<middleinitial>[\\s\\w\\s]?)(?P<middle>[\\s][\\w]*[\\s])(?P<last>[\\s]?[A-Z][a-z]*)                                          #alexander not middle and williams not last\n",
    "''',re.M|re.X)\n",
    "    answers = names_pattern2.match(name)\n",
    "    if answers:\n",
    "        return name\n",
    "for valid in data:\n",
    "    print(real_name(valid))\n"
   ]
  },
  {
   "cell_type": "code",
   "execution_count": null,
   "id": "8c2245e2",
   "metadata": {},
   "outputs": [],
   "source": [
    "# Abraham Lincoln\n",
    "# Andrew P Garfield\n",
    "# Connor Milliken\n",
    "# Jordan Alexander Williams\n",
    "# Madonna\n",
    "# programming is cool\n"
   ]
  }
 ],
 "metadata": {
  "kernelspec": {
   "display_name": "Python 3 (ipykernel)",
   "language": "python",
   "name": "python3"
  },
  "language_info": {
   "codemirror_mode": {
    "name": "ipython",
    "version": 3
   },
   "file_extension": ".py",
   "mimetype": "text/x-python",
   "name": "python",
   "nbconvert_exporter": "python",
   "pygments_lexer": "ipython3",
   "version": "3.9.12"
  }
 },
 "nbformat": 4,
 "nbformat_minor": 5
}
